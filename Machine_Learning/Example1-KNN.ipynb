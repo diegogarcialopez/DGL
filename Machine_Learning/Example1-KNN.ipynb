{
 "cells": [
  {
   "cell_type": "markdown",
   "metadata": {},
   "source": [
    "# Unit3-Example1 Use of KNN (K-Nearest Neighbor) classification model \n",
    "## Subject: Machine Learning - MSc. Computational Biology \n",
    "Author: Esteban García-Cuesta, Departamento de Inteligencia Artificial, UPM (License CC-BY-NC)\n",
    "\n",
    "This code has been developed to be used exclusively for educational purposes.\n",
    "\n",
    "\n",
    "## Objectives: \n",
    "  - Learn how the KNN model works\n",
    "  - Learn how to use the validation methodology for KNN\n",
    "  - Learn how to interpret the results\n",
    "\n",
    "## Part I Validation using train/test split\n",
    "In this part we will use two sets (training and testing) to train and test the KNN model.\n",
    "We will also analyze and interpret the results using the knowledge adquired in the topic validation (see previous classes). Among others we will interpret the confusion matrix and how to obtain the best value of K.\n",
    "\n",
    "## Part II Validation using cross-validation\n",
    "In this part we will use the cross-validation approach to set the best K of the KNN model. We will discuss the differences with Part I and we will interpret the results.\n",
    "\n",
    "## TO-DO at home\n",
    "  1. Change the standard deviation of the blobs to 1.5 for both axis and re-run the part II several times. What happened? Explain it.\n",
    "  2. Change the standard deviation of the blobs to 0.4 for both axis and re-run the part II several times. What happened? Explain it.\n"
   ]
  },
  {
   "cell_type": "code",
   "execution_count": 101,
   "metadata": {},
   "outputs": [
    {
     "name": "stdout",
     "output_type": "stream",
     "text": [
      "Error in the training point:-1.297690834250671,1.5882567358963247class: 0\n",
      "Error in the training point:0.20099282713289846,-0.7827168214015343class: 0\n",
      "Error in the training point:0.6808030643839129,-0.1845598075521533class: 1\n",
      "Error in the training point:0.7306478238323462,0.3324633122909819class: 1\n",
      "Error in the training point:0.946912354352621,0.20287515449275273class: 1\n",
      "Error in the testing point:1.1448302973775477,-0.14996846170862754class: 1\n"
     ]
    },
    {
     "data": {
      "image/png": "[encoded data removed]",
      "text/plain": [
       "<Figure size 432x288 with 1 Axes>"
      ]
     },
     "metadata": {
      "needs_background": "light"
     },
     "output_type": "display_data"
    },
    {
     "name": "stdout",
     "output_type": "stream",
     "text": [
      "The train accuracy is: 0.9444444444444444\n",
      "The test accuracy is: 0.9\n"
     ]
    }
   ],
   "source": [
    "#Part I Using train and test sets\n",
    "\n",
    "from sklearn.datasets import make_blobs\n",
    "from sklearn import neighbors\n",
    "import matplotlib.pyplot as plt\n",
    "from sklearn.model_selection import train_test_split\n",
    "import numpy as np\n",
    "\n",
    "#Define the parameters of the two artificial clusters that we want to create \n",
    "n_samples = 100\n",
    "centers = [[1,1],[-1, -1]]\n",
    "\n",
    "X, y = make_blobs(n_samples=n_samples,\n",
    "cluster_std=[[0.90,0.9],[0.9,0.9]],\n",
    "random_state=0,\n",
    "centers = centers)\n",
    "contTrain = 0\n",
    "contTest = 0\n",
    "\n",
    "# Create an instance of K - nearest neighbor classifier\n",
    "knn = neighbors.KNeighborsClassifier ( n_neighbors = 7, metric='euclidean')\n",
    "\n",
    "# Split train and test using sklearn.model_selection.train_test_split function\n",
    "XTrain, XTest, yTrain, yTest = train_test_split(X, y, test_size=0.10, random_state=42)\n",
    "\n",
    "# Train the classifier\n",
    "knn.fit(XTrain , yTrain)\n",
    "\n",
    "# Compute the train prediction according to the model\n",
    "yhatTrain = knn.predict(XTrain)\n",
    "\n",
    "# Check the result on the train examples\n",
    "#print('Predicted value : ' + str(yhat) , ', real target : ' + str(yTrain))\n",
    "for i in range(0,len(yTrain),1) :\n",
    "    if (yhatTrain[i] == yTrain[i]):\n",
    "        contTrain = contTrain + 1\n",
    "    else:\n",
    "        print('Error in the training point:' + str(XTrain[i,0]) + ',' + str(XTrain[i,1]) + 'class: ' + str(yTrain[i]))\n",
    "\n",
    "# Compute the test prediction according to the model\n",
    "yhatTest = knn.predict(XTest)\n",
    "\n",
    "# Check the result on the test examples\n",
    "#print('Predicted value : ' + str(yhat) , ', real target : ' + str(yTest))\n",
    "for i in range(0,len(yTest),1) :\n",
    "    if (yhatTest[i] == yTest[i]):\n",
    "        contTest = contTest + 1\n",
    "    else:\n",
    "        print('Error in the testing point:' + str(XTest[i,0]) + ',' + str(XTest[i,1]) + 'class: ' + str(yTest[i]))\n",
    "\n",
    "#Plot the training and testing points (Train class 0 = red, Train class 1 = blue, Test class 0 = orange, Test class 1 = green)\n",
    "fig, ax = plt.subplots()\n",
    "ax.set_xlim([-5,5])\n",
    "ax.set_ylim([-5,5])\n",
    "color= ['red' if l == 0 else 'blue' for l in yTrain]\n",
    "plt.scatter(XTrain[:,0],XTrain[:,1], color = color)\n",
    "plt.xlabel('X1')\n",
    "plt.ylabel('X2')\n",
    "\n",
    "color= ['orange' if l == 0 else 'green' for l in yTest]\n",
    "plt.scatter(XTest[:,0],XTest[:,1], color = color)\n",
    "plt.xlabel('X1')\n",
    "plt.ylabel('X2')\n",
    "xyvalues = np.linspace(-5,5,20)\n",
    "line = [0] * 20\n",
    "plt.plot(xyvalues, line, '--', color='k')\n",
    "plt.plot(line, xyvalues, '--', color='k')\n",
    "\n",
    "plt.show()\n",
    "\n",
    "#Return the metric of accuracy\n",
    "print('The train accuracy is: ' + str(contTrain/len(yTrain)))\n",
    "print('The test accuracy is: ' + str(contTest/len(yTest)))"
   ]
  },
  {
   "cell_type": "code",
   "execution_count": null,
   "metadata": {},
   "outputs": [],
   "source": []
  },
  {
   "cell_type": "code",
   "execution_count": 97,
   "metadata": {},
   "outputs": [
    {
     "name": "stdout",
     "output_type": "stream",
     "text": [
      "----------------Train Confusion Matrix------------------\n",
      "[[42  2]\n",
      " [ 3 43]]\n",
      "              precision    recall  f1-score   support\n",
      "\n",
      "           0       0.93      0.95      0.94        44\n",
      "           1       0.96      0.93      0.95        46\n",
      "\n",
      "    accuracy                           0.94        90\n",
      "   macro avg       0.94      0.94      0.94        90\n",
      "weighted avg       0.94      0.94      0.94        90\n",
      "\n",
      "----------------Test Confusion Matrix------------------\n",
      "[[6 0]\n",
      " [1 3]]\n",
      "              precision    recall  f1-score   support\n",
      "\n",
      "           0       0.86      1.00      0.92         6\n",
      "           1       1.00      0.75      0.86         4\n",
      "\n",
      "    accuracy                           0.90        10\n",
      "   macro avg       0.93      0.88      0.89        10\n",
      "weighted avg       0.91      0.90      0.90        10\n",
      "\n"
     ]
    }
   ],
   "source": [
    "#Part I Interpretation of confusion matrix \n",
    "\n",
    "from sklearn.metrics import classification_report,confusion_matrix\n",
    "\n",
    "#Print train confusion matrix\n",
    "print('----------------Train Confusion Matrix------------------')\n",
    "print(confusion_matrix(yTrain,yhatTrain))\n",
    "print(classification_report(yTrain,yhatTrain))\n",
    "\n",
    "#Print test confusion matrix\n",
    "print('----------------Test Confusion Matrix------------------')\n",
    "print(confusion_matrix(yTest,yhatTest))\n",
    "print(classification_report(yTest,yhatTest))\n"
   ]
  },
  {
   "cell_type": "code",
   "execution_count": 198,
   "metadata": {},
   "outputs": [
    {
     "data": {
      "image/png": "[encoded data removed]",
      "text/plain": [
       "<Figure size 720x432 with 1 Axes>"
      ]
     },
     "metadata": {
      "needs_background": "light"
     },
     "output_type": "display_data"
    }
   ],
   "source": [
    "# Part I Choosing the best K\n",
    "from sklearn.datasets import make_blobs\n",
    "from sklearn import neighbors\n",
    "import matplotlib.pyplot as plt\n",
    "from sklearn.model_selection import train_test_split\n",
    "import numpy as np\n",
    "\n",
    "#Define the parameters of the two artificial clusters that we want to create \n",
    "n_samples = 100\n",
    "n_components = 2\n",
    "centers = [[1,1],[-1, -1]]\n",
    "\n",
    "X, y = make_blobs(n_samples=n_samples,\n",
    "cluster_std=[[0.9,0.9],[0.9,0.9]],\n",
    "random_state=0,\n",
    "centers = centers)\n",
    "\n",
    "# Loop to check different values of K\n",
    "error_rate = []\n",
    "# Split train and test using sklearn.model_selection.train_test_split function\n",
    "XTrain, XTest, yTrain, yTest = train_test_split(X, y, test_size=0.10, random_state=42)\n",
    "\n",
    "for i in range (1,20):\n",
    "    \n",
    "    # Create an instance of K - nearest neighbor classifier\n",
    "    knn = neighbors.KNeighborsClassifier ( n_neighbors = i, metric='euclidean')\n",
    "    # Train the classifier\n",
    "    knn.fit(XTrain , yTrain)\n",
    "\n",
    "    # Compute the test prediction according to the model\n",
    "    yhatTest = knn.predict(XTest)\n",
    "    error_rate.append(np.mean(yhatTest != yTest))\n",
    "\n",
    "#Plot the training and testing points (Train class 0 = red, Train class 1 = blue, Test class 0 = orange, Test class 1 = green)\n",
    "\n",
    "plt.figure(figsize=(10,6))\n",
    "plt.plot(range(1,20),error_rate,color='blue', linestyle='dashed', marker='o',\n",
    "         markerfacecolor='red', markersize=10)\n",
    "plt.title('Test Error Rate vs. K Value')\n",
    "plt.xlabel('K')\n",
    "plt.ylabel('Error Rate')\n",
    "plt.show()\n",
    "\n",
    "#The best validation error is obtained with K=7\n"
   ]
  },
  {
   "cell_type": "code",
   "execution_count": 197,
   "metadata": {},
   "outputs": [
    {
     "data": {
      "image/png": "[encoded data removed]",
      "text/plain": [
       "<Figure size 720x432 with 1 Axes>"
      ]
     },
     "metadata": {
      "needs_background": "light"
     },
     "output_type": "display_data"
    },
    {
     "name": "stdout",
     "output_type": "stream",
     "text": [
      "Fo a K:6 Test Error:0.05555555555555555\n"
     ]
    }
   ],
   "source": [
    "# Part I Choosing the best K using train and validation sets\n",
    "from sklearn.datasets import make_blobs\n",
    "from sklearn import neighbors\n",
    "import matplotlib.pyplot as plt\n",
    "from sklearn.model_selection import train_test_split\n",
    "import numpy as np\n",
    "\n",
    "#Define the parameters of the two artificial clusters that we want to create \n",
    "n_samples = 100\n",
    "n_components = 2\n",
    "centers = [[1,1],[-1, -1]]\n",
    "\n",
    "X, y = make_blobs(n_samples=n_samples,\n",
    "cluster_std=[[0.9,0.9],[0.9,0.9]],\n",
    "random_state=0,\n",
    "centers = centers)\n",
    "\n",
    "# Loop to check different values of K\n",
    "error_rate = []\n",
    "# Split train and test using sklearn.model_selection.train_test_split function\n",
    "XTrainVal, XTest, yTrainVal, yTest = train_test_split(X, y, test_size=0.10, random_state=np.random.randint(0,40))\n",
    "\n",
    "# Split train in train and validation using sklearn.model_selection.train_test_split function\n",
    "XTrain, XVal, yTrain, yVal = train_test_split(XTrainVal, yTrainVal, test_size=0.20, random_state=np.random.randint(0,40))\n",
    "\n",
    "for i in range (1,20):\n",
    "    \n",
    "    # Create an instance of K - nearest neighbor classifier\n",
    "    knn = neighbors.KNeighborsClassifier ( n_neighbors = i, metric='euclidean')\n",
    "    # Train the classifier\n",
    "    knn.fit(XTrain , yTrain)\n",
    "\n",
    "    # Compute the test prediction according to the model\n",
    "    yhatVal = knn.predict(XVal)\n",
    "    error_rate.append(np.mean(yhatVal != yVal))\n",
    "\n",
    "#Plot the training and testing points (Train class 0 = red, Train class 1 = blue, Test class 0 = orange, Test class 1 = green)\n",
    "\n",
    "plt.figure(figsize=(10,6))\n",
    "plt.plot(range(1,20),error_rate,color='blue', linestyle='dashed', marker='o',\n",
    "         markerfacecolor='red', markersize=10)\n",
    "plt.title('Validation Error Rate vs. K Value')\n",
    "plt.xlabel('K')\n",
    "plt.ylabel('Error Rate')\n",
    "plt.show()\n",
    "\n",
    "#Obtain the best k and calculate results on test set\n",
    "error_rate = np.asarray(error_rate)\n",
    "k = np.where(error_rate == error_rate.min())\n",
    "k=k[0][0]+1 #The first k of the list\n",
    "knn = neighbors.KNeighborsClassifier ( n_neighbors = k, metric='euclidean')\n",
    "knn.fit(XTrainVal , yTrainVal)\n",
    "\n",
    "yhatTest = knn.predict(XTest)\n",
    "print('Fo a K:' + str(k) + ' Test Error:' + str(np.mean(yhatVal != yVal)))"
   ]
  },
  {
   "cell_type": "code",
   "execution_count": 247,
   "metadata": {},
   "outputs": [
    {
     "name": "stdout",
     "output_type": "stream",
     "text": [
      "For a K:16 Test Error:0.4\n",
      "----------------Test Confusion Matrix------------------\n",
      "[[3 1]\n",
      " [3 3]]\n",
      "              precision    recall  f1-score   support\n",
      "\n",
      "           0       0.50      0.75      0.60         4\n",
      "           1       0.75      0.50      0.60         6\n",
      "\n",
      "    accuracy                           0.60        10\n",
      "   macro avg       0.62      0.62      0.60        10\n",
      "weighted avg       0.65      0.60      0.60        10\n",
      "\n"
     ]
    }
   ],
   "source": [
    "#Part II Using cross-validation\n",
    "\n",
    "from sklearn.datasets import make_blobs\n",
    "from sklearn import neighbors\n",
    "import matplotlib.pyplot as plt\n",
    "from sklearn.model_selection import train_test_split\n",
    "import numpy as np\n",
    "from sklearn.model_selection import GridSearchCV\n",
    "\n",
    "\n",
    "#Define the parameters of the two artificial clusters that we want to create \n",
    "n_samples = 100\n",
    "centers = [[1, 1],[-1, -1]]\n",
    "\n",
    "X, y = make_blobs(n_samples=n_samples,\n",
    "cluster_std=[[1.5,1.5],[1.5,1.5]],\n",
    "random_state=0,\n",
    "centers = centers)\n",
    "\n",
    "# Split train and test using sklearn.model_selection.train_test_split function\n",
    "XTrain, XTest, yTrain, yTest = train_test_split(X, y, test_size=0.10, random_state=np.random.randint(0,40))\n",
    "\n",
    "k_range = list(range(1, 21))\n",
    "param_grid = {'n_neighbors': k_range}\n",
    "  \n",
    "# defining parameter range\n",
    "grid_search = GridSearchCV(knn, param_grid, cv=10, scoring='accuracy')\n",
    "grid_search.fit(XTrain,yTrain)\n",
    "\n",
    "#Obtain the best k and calculate results on test set\n",
    "k = grid_search.best_params_['n_neighbors']\n",
    "knn = neighbors.KNeighborsClassifier ( n_neighbors = k, metric='euclidean')\n",
    "knn.fit(XTrain , yTrain)\n",
    "\n",
    "yhatTest = knn.predict(XTest)\n",
    "print('For a K:' + str(k) + ' Test Error:' + str(np.mean(yhatTest != yTest)))\n",
    "\n",
    "#Print test confusion matrix\n",
    "print('----------------Test Confusion Matrix------------------')\n",
    "print(confusion_matrix(yTest,yhatTest))\n",
    "print(classification_report(yTest,yhatTest))"
   ]
  }
 ],
 "metadata": {
  "interpreter": {
   "hash": "441f9d3ff1c529ee1e872a15f4dc348a3c02d54fb42565189cd8283cda2528b2"
  },
  "kernelspec": {
   "display_name": "Python 3.8.10 64-bit ('mlenv': venv)",
   "name": "python3"
  },
  "language_info": {
   "codemirror_mode": {
    "name": "ipython",
    "version": 3
   },
   "file_extension": ".py",
   "mimetype": "text/x-python",
   "name": "python",
   "nbconvert_exporter": "python",
   "pygments_lexer": "ipython3",
   "version": "3.8.10"
  },
  "orig_nbformat": 4
 },
 "nbformat": 4,
 "nbformat_minor": 2
}
